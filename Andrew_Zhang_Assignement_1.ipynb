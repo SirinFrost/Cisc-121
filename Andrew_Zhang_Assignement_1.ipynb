{
  "nbformat": 4,
  "nbformat_minor": 0,
  "metadata": {
    "colab": {
      "provenance": [],
      "collapsed_sections": [
        "aUHzVrY4cTX0",
        "Om2fMRWLceyo",
        "fJrDhzvMcxVN",
        "USwRg1coc-BO",
        "I3sm6dPxzFkc",
        "IPAZ8vP68v6F",
        "9xwlcW38DenL",
        "Q43nOd7WHbub",
        "MYkRi7MOTvzH"
      ],
      "include_colab_link": true
    },
    "kernelspec": {
      "name": "python3",
      "display_name": "Python 3"
    },
    "language_info": {
      "name": "python"
    }
  },
  "cells": [
    {
      "cell_type": "markdown",
      "metadata": {
        "id": "view-in-github",
        "colab_type": "text"
      },
      "source": [
        "<a href=\"https://colab.research.google.com/github/SirinFrost/Cisc-121/blob/main/Andrew_Zhang_Assignement_1.ipynb\" target=\"_parent\"><img src=\"https://colab.research.google.com/assets/colab-badge.svg\" alt=\"Open In Colab\"/></a>"
      ]
    },
    {
      "cell_type": "markdown",
      "source": [
        "# CISC 121 – Assignment-1\n",
        "\n",
        "## 🔗 Problem\n",
        "Fizz Buzz – https://leetcode.com/problems/fizz-buzz/\n",
        "\n",
        "Palindrome Number – https://leetcode.com/problems/palindrome-number/\n",
        "\n",
        "Reverse Integer – https://leetcode.com/problems/reverse-integer/\n",
        "\n",
        "Two Sum – https://leetcode.com/problems/two-sum/\n",
        "\n",
        "Valid Palindrome – https://leetcode.com/problems/valid-palindrome/\n"
      ],
      "metadata": {
        "id": "sAREeEgkZ515"
      }
    },
    {
      "cell_type": "markdown",
      "source": [
        "#  Problem 1\n",
        "\n",
        "\n"
      ],
      "metadata": {
        "id": "rAwLuBzFZxf3"
      }
    },
    {
      "cell_type": "markdown",
      "source": [
        "## 1. Understanding & Breakdown\n",
        "\n",
        "_Understand the problem, inputs/outputs, constraints, and  write down your plan or steps to solve the problem or draw the flowchart using digital or real pen-paper. Insert the image._\n",
        "\n",
        "**AI Level 1** is allowed to understand the concept, but you need to sketch the problem down by yourself.\n",
        "\n",
        "**Your effort is more important than the accuracy for this section**"
      ],
      "metadata": {
        "id": "r9EKMWjKIQP3"
      }
    },
    {
      "cell_type": "markdown",
      "source": [
        "## 2. Peer Review & Draft Code\n",
        "\n",
        "**Review Guidance:**  \n",
        "Visit the **\"Solutions\"** tab on LeetCode for the selected problem and review at least one top-rated solution. You may also search for relevant discussions or Q&A threads on **Stack Overflow** or other forums to understand how others approached the problem.\n",
        "\n",
        "Then, write your own version based on what you understood. The goal is not to copy but to apply what you learned. Always include links to the resources you reviewed.\n",
        "\n",
        "---\n",
        "\n",
        "### **Example Answer (for \"Palindrome Number\"):**\n",
        "\n",
        "I reviewed the top solution under the LeetCode “Solutions” tab and one post on Stack Overflow:  \n",
        "https://stackoverflow.com/questions/17129222/how-to-check-if-a-number-is-palindrome-in-python  \n",
        "\n",
        "I learned that I can reverse the integer using a loop with modulo and division instead of converting it to a string. Using this idea, I tried writing a function that reverses the number and compares it to the original.\n",
        "\n"
      ],
      "metadata": {
        "id": "aUHzVrY4cTX0"
      }
    },
    {
      "cell_type": "code",
      "source": [
        "# Your draft code here (does not need to be fully correct)\n"
      ],
      "metadata": {
        "id": "NPk65D2zciQV"
      },
      "execution_count": null,
      "outputs": []
    },
    {
      "cell_type": "markdown",
      "source": [
        "## 3. Final Correct Code\n",
        "\n",
        "_This version must pass all required test cases and handle edge cases correctly._\n",
        "\n",
        "At this stage, you may:\n",
        "- Use reviewed solutions or programming AI tools (e.g., ChatGPT, GitHub Copilot) to refine and fix errors.\n",
        "- Refactor your draft to ensure accuracy and completeness.\n",
        "\n",
        " **AI Level 4 is allowed**, but you **must include a disclaimer** that clearly states what tools you used, how you used them, and for which part of the code.\n"
      ],
      "metadata": {
        "id": "Om2fMRWLceyo"
      }
    },
    {
      "cell_type": "code",
      "source": [
        "# Final working solution\n",
        "# [AI Disclaimer example: Used ChatGPT with prompt “How to handle recursion base case” only for concept]\n"
      ],
      "metadata": {
        "id": "CukQ_t3xcuDV"
      },
      "execution_count": null,
      "outputs": []
    },
    {
      "cell_type": "markdown",
      "source": [
        "Add the screenshot of output for all the test cases from your working solutions."
      ],
      "metadata": {
        "id": "n-a6rKrlUyQP"
      }
    },
    {
      "cell_type": "markdown",
      "source": [
        "## 4. Review & Fixes\n",
        "_What did you improve from your draft? 2 fixes with your comments._\n",
        "\n"
      ],
      "metadata": {
        "id": "fJrDhzvMcxVN"
      }
    },
    {
      "cell_type": "code",
      "source": [
        "# Fix 1: Simplified bracket matching using a dictionary\n",
        "\n",
        "# Draft version (manual and repetitive logic)\n",
        "if char == \")\" and stack[-1] == \"(\": stack.pop()\n",
        "elif char == \"]\" and stack[-1] == \"[\": stack.pop()\n",
        "elif char == \"}\" and stack[-1] == \"{\": stack.pop()\n",
        "else: return False\n",
        "\n",
        "# Fixed version (cleaner and scalable)\n",
        "mapping = {\")\": \"(\", \"]\": \"[\", \"}\": \"{\"}\n",
        "if stack:\n",
        "    top = stack.pop()\n",
        "else:\n",
        "    top = \"#\"\n",
        "if mapping[char] != top:\n",
        "    return False\n"
      ],
      "metadata": {
        "id": "tzEAjBgfMtod"
      },
      "execution_count": null,
      "outputs": []
    },
    {
      "cell_type": "code",
      "source": [
        "# Fix 2: Prevented runtime error when stack is empty\n",
        "\n",
        "# Draft version: crashes if the stack is empty\n",
        "top = stack.pop()  # This causes IndexError if stack is empty\n",
        "\n",
        "# Fixed version: avoids crash by using fallback value\n",
        "top = stack.pop() if stack else '#'\n"
      ],
      "metadata": {
        "id": "ElfXHAqFMzQT"
      },
      "execution_count": null,
      "outputs": []
    },
    {
      "cell_type": "markdown",
      "source": [
        "## 5. Reflection on Your Contribution\n",
        "_Where did AI or Other's code helped or fail to help? What specific logic or debugging did you contribute yourself?_\n",
        "\n",
        "## Example\n",
        "1. I used ChatGPT (Level 4) to help identify an edge case where my draft code failed when the input string started with a closing bracket. I also used ChatGPT to help structure the final loop and mapping dictionary, but verified all logic myself by tracing the code.\n",
        "\n",
        "2.  I used ChatGPT to help write the loop. But the code had an indentation error after the `if` block, which caused it to fail. I fixed the spacing and made sure the code runs correctly.\n",
        "\n",
        "3. I used opensource code from Github. I found and fixed a logic bug where they used if s[i] == '(' or ')', which always returned True. I corrected it to properly check both conditions.\n",
        "\n"
      ],
      "metadata": {
        "id": "QfK-i2ITc4MU"
      }
    },
    {
      "cell_type": "markdown",
      "source": [
        "#  Repeat this template for Problems 2–5\n",
        "You may copy-paste the above section 4 more times or duplicate cells in your notebook environment.\n",
        "\n",
        "Remember:\n",
        "Proper attribution  \n",
        "No copy-pasting from AI or others  \n",
        "\n",
        "\n"
      ],
      "metadata": {
        "id": "USwRg1coc-BO"
      }
    },
    {
      "cell_type": "markdown",
      "source": [
        "1. Your Name:\n",
        "2. Section:\n",
        "3. ID:\n",
        "4. Github Link of this notebook:\n",
        "5. Chat/ (Saved Chat in a shared Document link)"
      ],
      "metadata": {
        "id": "SYt5mNEYdMHJ"
      }
    },
    {
      "cell_type": "markdown",
      "source": [
        "# **The most important part of writing code is not the code itself, but the thinking that leads to it. Thank You**"
      ],
      "metadata": {
        "id": "YR8usq_lVloZ"
      }
    },
    {
      "cell_type": "markdown",
      "source": [
        "# **`Work Done Here:`**"
      ],
      "metadata": {
        "id": "2SAEKUX-ErJh"
      }
    },
    {
      "cell_type": "markdown",
      "source": [
        "# Question 1:"
      ],
      "metadata": {
        "id": "I3sm6dPxzFkc"
      }
    },
    {
      "cell_type": "markdown",
      "source": [
        "Part 1:\n",
        "\n",
        "The problem of this question is given a certain n-integer, we loop that many times.\n",
        "\n",
        "The input is just an integer, and the output is a list filled with integers or strings, or both.\n",
        "\n",
        "For each iteration, the loop number, say 1, is compared and seen if divisible by both 3 and 5 while leaving no remainder, only 3, or only 5.\n",
        "\n",
        "If divisible by both, \"FizzBuzz\" is appended into an awaiting list.\n",
        "\n",
        "If only divisble by 3, \"Fizz\" is appended into the list.\n",
        "\n",
        "If only divisble by 5, \"Buzz\" is appended into the list.\n",
        "\n",
        "If none of these conditions match, simply append the loop number.\n",
        "\n",
        "It then returns a list containing the appended values."
      ],
      "metadata": {
        "id": "15TGg2mp3ubu"
      }
    },
    {
      "cell_type": "markdown",
      "source": [
        "Part 2:\n",
        "\n",
        "Using a for loop and elif statments, we get the answer.\n",
        "\n",
        "\n",
        "\n",
        "\n",
        "\n",
        "\n",
        "\n",
        "```\n",
        "\n",
        "class Solution(object):\n",
        "    def fizzBuzz(self, n):\n",
        "        \"\"\"\n",
        "        :type n: int\n",
        "        :rtype: List[str]\n",
        "        \"\"\"\n",
        "        \n",
        "        answer = [] # say n = 5, 0,1,2,3,4\n",
        "\n",
        "        for i in range(n):\n",
        "            if i % 3 == 0 and i % 5 == 0:\n",
        "                answer.append(\"FizzBuzz\")\n",
        "            elif i % 3 == 0:\n",
        "                answer.append(\"Fizz\")\n",
        "            elif 1 % 5 == 0:\n",
        "                answer.append(\"Buzz\")\n",
        "            else:\n",
        "                answer.append(str(i+1))\n",
        "        return answer\n",
        "\n",
        "```\n",
        "\n",
        "\n",
        "\n",
        "\n"
      ],
      "metadata": {
        "id": "orPkAFDi2MWp"
      }
    },
    {
      "cell_type": "code",
      "source": [
        "# Part 3\n",
        "# Final Working Solution\n",
        "\n",
        "class Solution(object):\n",
        "    def fizzBuzz(self, n):\n",
        "        \"\"\"\n",
        "        :type n: int\n",
        "        :rtype: List[str]\n",
        "        \"\"\"\n",
        "\n",
        "        answer = [] # say n = 5, 0,1,2,3,4\n",
        "\n",
        "        for i in range(n):\n",
        "            if (i+1) % 3 == 0 and (i+1) % 5 == 0:\n",
        "                answer.append(\"FizzBuzz\")\n",
        "            elif (i+1) % 3 == 0:\n",
        "                answer.append(\"Fizz\")\n",
        "            elif (i+1) % 5 == 0:\n",
        "                answer.append(\"Buzz\")\n",
        "            else:\n",
        "                answer.append(str(i+1))\n",
        "        return answer\n",
        "\n",
        "sol1 = Solution()\n",
        "print(sol1.fizzBuzz(5))\n",
        "print(\"\\n\")\n",
        "print(sol1.fizzBuzz(9))\n",
        "\n",
        "\n"
      ],
      "metadata": {
        "colab": {
          "base_uri": "https://localhost:8080/"
        },
        "id": "kKuACoBAzHnN",
        "outputId": "e9ddd69b-a458-4973-a424-3b0b94477708"
      },
      "execution_count": null,
      "outputs": [
        {
          "output_type": "stream",
          "name": "stdout",
          "text": [
            "['1', '2', 'Fizz', '4', 'Buzz']\n",
            "\n",
            "\n",
            "['1', '2', 'Fizz', '4', 'Buzz', 'Fizz', '7', '8', 'Fizz', 'Buzz', '11', 'Fizz', '13', '14', 'FizzBuzz']\n"
          ]
        }
      ]
    },
    {
      "cell_type": "code",
      "source": [
        "#Part 4. Improved Code:\n",
        "\n",
        "class Solution(object):\n",
        "    def fizzBuzz(self, n):\n",
        "        \"\"\"\n",
        "        :type n: int\n",
        "        :rtype: List[str]\n",
        "        \"\"\"\n",
        "\n",
        "        answer = [] # say n = 5, 0,1,2,3,4\n",
        "\n",
        "        for i in range(1, n+1):\n",
        "            if i % 3 == 0 and i % 5 == 0:\n",
        "                answer.append(\"FizzBuzz\")\n",
        "            elif i % 3 == 0:\n",
        "                answer.append(\"Fizz\")\n",
        "            elif i % 5 == 0:\n",
        "                answer.append(\"Buzz\")\n",
        "            else:\n",
        "                answer.append(str(i))\n",
        "        return answer\n",
        "\n",
        "sol1 = Solution()\n",
        "print(sol1.fizzBuzz(5))\n",
        "print(\"\\n\")\n",
        "print(sol1.fizzBuzz(15))\n",
        "\n",
        "# Fix includes removing i + 1 for just i and changing the range function to start at 1 and end at n+1 instead of just n\n",
        "\n",
        "# Also changed test case to include 15 for FizzBuzz result\n",
        "\n"
      ],
      "metadata": {
        "colab": {
          "base_uri": "https://localhost:8080/"
        },
        "id": "loUN79Up5uCo",
        "outputId": "2174f967-5b50-4170-bf17-56672bf636db"
      },
      "execution_count": null,
      "outputs": [
        {
          "output_type": "stream",
          "name": "stdout",
          "text": [
            "['1', '2', 'Fizz', '4', 'Buzz']\n",
            "\n",
            "\n",
            "['1', '2', 'Fizz', '4', 'Buzz', 'Fizz', '7', '8', 'Fizz', 'Buzz', '11', 'Fizz', '13', '14', 'FizzBuzz']\n"
          ]
        }
      ]
    },
    {
      "cell_type": "markdown",
      "source": [
        "Part 5:\n",
        "\n",
        "For contribution, I did this purely by myself without help from AI. Any problems I ran into were simple fixes like the i+1 incident, but I quickly fixed it after realizing it was wrong."
      ],
      "metadata": {
        "id": "NefSZQE02NrL"
      }
    },
    {
      "cell_type": "markdown",
      "source": [
        "# Question 2:"
      ],
      "metadata": {
        "id": "IPAZ8vP68v6F"
      }
    },
    {
      "cell_type": "markdown",
      "source": [
        "Part 1:\n",
        "\n",
        "This question asks if an inputted integer is a palindrome or not.\n",
        "\n",
        "The input is one singular integer and the output is a boolean value.\n",
        "\n",
        "A palindrome integer is an integer than can be reversed in order and still be the same number.\n",
        "\n",
        "To do this, you first make sure the input isn't a negative number as negative numbers automatically don't work.\n",
        "\n",
        "If the input is a negative, immediatly cut off and return False\n",
        "\n",
        "If input is positive, continue and turn the integer into a string for reversing.\n",
        "\n",
        "Simply compare the initial string to the reversed string and return the result."
      ],
      "metadata": {
        "id": "tLoR8Joa8v6G"
      }
    },
    {
      "cell_type": "markdown",
      "source": [
        "Part 2:\n",
        "\n",
        "I wrote some code before that used this function and thought it might work here.\n",
        "\n",
        "```\n",
        "    class Solution:\n",
        "        def isPalindrome(self, x: int) -> bool:\n",
        "            if x < 0:            \n",
        "                return false\n",
        "            x = str(x)\n",
        "            return x == x[:-1]\n",
        "\n",
        "```"
      ],
      "metadata": {
        "id": "ysgIDYFE8v6G"
      }
    },
    {
      "cell_type": "code",
      "source": [
        "# Part 3\n",
        "# Final Working Solution\n",
        "\n",
        "class Solution:\n",
        "    def isPalindrome(self, x: int) -> bool:\n",
        "        if x < 0:\n",
        "            return false\n",
        "        x = str(x)\n",
        "        return x == x[::-1]\n",
        "\n",
        "sol1 = Solution()\n",
        "print(sol1.isPalindrome(5))\n",
        "print(\"\\n\")\n",
        "print(sol1.isPalindrome(9))\n",
        "\n",
        "\n"
      ],
      "metadata": {
        "colab": {
          "base_uri": "https://localhost:8080/"
        },
        "outputId": "e9ddd69b-a458-4973-a424-3b0b94477708",
        "id": "FwhbzeIq8v6G"
      },
      "execution_count": null,
      "outputs": [
        {
          "output_type": "stream",
          "name": "stdout",
          "text": [
            "['1', '2', 'Fizz', '4', 'Buzz']\n",
            "\n",
            "\n",
            "['1', '2', 'Fizz', '4', 'Buzz', 'Fizz', '7', '8', 'Fizz', 'Buzz', '11', 'Fizz', '13', '14', 'FizzBuzz']\n"
          ]
        }
      ]
    },
    {
      "cell_type": "code",
      "source": [
        "#Part 4. Improved Code:\n",
        "\n",
        "class Solution:\n",
        "    def isPalindrome(self, x: int) -> bool:\n",
        "        if x < 0:\n",
        "            return False\n",
        "\n",
        "        if 0 <= x and x <=9:\n",
        "            return True\n",
        "\n",
        "        x = str(x)\n",
        "        return x == x[::-1]\n",
        "\n",
        "sol1 = Solution()\n",
        "print(sol1.isPalindrome(5))\n",
        "print(\"\\n\")\n",
        "print(sol1.isPalindrome(15))\n",
        "print(\"\\n\")\n",
        "print(sol1.isPalindrome(151))\n",
        "\n",
        "\n",
        "# Fixes include adding an if statement to check if the number was in the range of 0-9 for a cutoff\n",
        "\n",
        "# Fixed \"false\" to \"False\"\n",
        "\n"
      ],
      "metadata": {
        "colab": {
          "base_uri": "https://localhost:8080/"
        },
        "outputId": "f2177af4-cc49-4605-dd91-27f49e328378",
        "id": "zofZJoQY8v6H"
      },
      "execution_count": null,
      "outputs": [
        {
          "output_type": "stream",
          "name": "stdout",
          "text": [
            "True\n",
            "\n",
            "\n",
            "False\n",
            "\n",
            "\n",
            "True\n"
          ]
        }
      ]
    },
    {
      "cell_type": "markdown",
      "source": [
        "Part 5:\n",
        "\n",
        "For contribution, I did this purely by myself without help from AI. I did do some mistakes like missing the : in the comparison part but that was easily fixed. I also tried not having the type change to a string but using a list would have been slower."
      ],
      "metadata": {
        "id": "HVYEXWCK8v6I"
      }
    },
    {
      "cell_type": "markdown",
      "source": [
        "# Question 3:"
      ],
      "metadata": {
        "id": "9xwlcW38DenL"
      }
    },
    {
      "cell_type": "markdown",
      "source": [
        "Part 1:\n",
        "\n",
        "This question requires reversing the number but also preserving the sign that the number has.\n",
        "\n",
        "The input is some integer, can be negative or positive, and we must reverse the order while keeping the sign the same.\n",
        "\n",
        "First, I see if the number is 0. If it is, cut off and return itself.\n",
        "\n",
        "Second, I see if the number is less than 0. If it is, I make the negative_number boolean True. If it is not, skip this step entirely.\n",
        "\n",
        "Three, I use the reversing technique from the palindrome question and reverse the order by first changing it into a string, then back to an integer after the reverse.\n",
        "\n",
        "Four, I have an if and else statement for possible negative numbers to return."
      ],
      "metadata": {
        "id": "WIEEifKDDenM"
      }
    },
    {
      "cell_type": "markdown",
      "source": [
        "Part 2:\n",
        "\n",
        "I just used the code from the previous question and added some more if statements.\n",
        "\n",
        "```\n",
        "class Solution:\n",
        "    def reverse(self, x: int) -> int:\n",
        "        negative_number = False\n",
        "        if x < 0:\n",
        "            negative_number = True\n",
        "            x *= -1 # convert to positive integer\n",
        "        x = str(x)\n",
        "        x = x[::-1]\n",
        "        if negative_number == True:\n",
        "            return int(x) * -1\n",
        "        else:\n",
        "            return int(x)\n",
        "\n",
        "```"
      ],
      "metadata": {
        "id": "CPHQ_xngDenM"
      }
    },
    {
      "cell_type": "code",
      "source": [
        "# Part 3\n",
        "# Final Working Solution\n",
        "\n",
        "class Solution:\n",
        "    def reverse(self, x: int) -> int:\n",
        "        if x == 0:\n",
        "            return x\n",
        "\n",
        "        negative_number = False\n",
        "        if x < 0:\n",
        "            negative_number = True\n",
        "            x *= -1 # convert to positive integer\n",
        "\n",
        "        x = str(x)\n",
        "        x = x[::-1]\n",
        "\n",
        "        if negative_number == True:\n",
        "            return int(x) * -1\n",
        "        else:\n",
        "            return int(x)\n",
        "\n",
        "\n"
      ],
      "metadata": {
        "colab": {
          "base_uri": "https://localhost:8080/"
        },
        "outputId": "e9ddd69b-a458-4973-a424-3b0b94477708",
        "id": "u5c6vaTuDenM"
      },
      "execution_count": null,
      "outputs": [
        {
          "output_type": "stream",
          "name": "stdout",
          "text": [
            "['1', '2', 'Fizz', '4', 'Buzz']\n",
            "\n",
            "\n",
            "['1', '2', 'Fizz', '4', 'Buzz', 'Fizz', '7', '8', 'Fizz', 'Buzz', '11', 'Fizz', '13', '14', 'FizzBuzz']\n"
          ]
        }
      ]
    },
    {
      "cell_type": "code",
      "source": [
        "#Part 4. Improved Code:\n",
        "\n",
        "class Solution:\n",
        "    def reverse(self, x: int) -> int:\n",
        "        if x == 0:\n",
        "            return x\n",
        "\n",
        "        negative_number = False\n",
        "        if x < 0:\n",
        "            negative_number = True\n",
        "            x *= -1 # convert to positive integer\n",
        "\n",
        "        x = str(x)\n",
        "        x = x[::-1]\n",
        "        x = int(x)\n",
        "\n",
        "        if negative_number == True:\n",
        "            return x * -1\n",
        "        else:\n",
        "            return x\n",
        "\n",
        "sol1 = Solution()\n",
        "print(sol1.reverse(123))\n",
        "print(\"\\n\")\n",
        "print(sol1.reverse(-169))\n",
        "print(\"\\n\")\n",
        "print(sol1.reverse(0))\n",
        "\n",
        "\n",
        "# Fixes include moving the int(x) statment into the actual code instead of putting them at the if statements for readability\n",
        "\n",
        "# Added a check for 0 to immedaitly cut off for time saving\n",
        "\n"
      ],
      "metadata": {
        "colab": {
          "base_uri": "https://localhost:8080/"
        },
        "outputId": "dd90850a-c136-43fb-d581-f3fc947c953c",
        "id": "f08Byi8wDenN"
      },
      "execution_count": null,
      "outputs": [
        {
          "output_type": "stream",
          "name": "stdout",
          "text": [
            "321\n",
            "\n",
            "\n",
            "-961\n",
            "\n",
            "\n",
            "0\n"
          ]
        }
      ]
    },
    {
      "cell_type": "markdown",
      "source": [
        "Part 5:\n",
        "\n",
        "For contribution, I did everything without the help of AI. I used code from the previous question to help with the reversing and then made everything else by myself."
      ],
      "metadata": {
        "id": "nqatNJOADenO"
      }
    },
    {
      "cell_type": "markdown",
      "source": [
        "# Question 4:"
      ],
      "metadata": {
        "id": "Q43nOd7WHbub"
      }
    },
    {
      "cell_type": "markdown",
      "source": [
        "Part 1:\n",
        "\n",
        "In this question, there are 2 inputs, a list of integers and an integer that is the target value. The output is a list of two index values from the inputted list.\n",
        "\n",
        "Using a nested for loop, we can go through the entire list to compare value's adding to each other.\n",
        "\n",
        "Through looping, when we do acheive the target integer, return the two index numbers inside of a list.\n",
        "\n",
        "There are several constraints that need to be recognized that I don't initially realize but end up realizing through testing the code."
      ],
      "metadata": {
        "id": "wOtT0HZUHbul"
      }
    },
    {
      "cell_type": "markdown",
      "source": [
        "Part 2:\n",
        "\n",
        "Here, I made the mistake of returning the real values instead of returning doing the index value\n",
        "\n",
        "```\n",
        "\n",
        "class Solution:\n",
        "    def twoSum(self, nums, target):\n",
        "        for x in nums:\n",
        "            for y in nums:\n",
        "                if x + y == target:\n",
        "                    return [x,y]\n",
        "\n",
        "```"
      ],
      "metadata": {
        "id": "t_AGWi7QHbum"
      }
    },
    {
      "cell_type": "code",
      "source": [
        "# Part 3\n",
        "# Final Working Solution\n",
        "\n",
        "class Solution:\n",
        "    def twoSum(self, nums, target):\n",
        "        for x in range(len(nums)):\n",
        "            for y in range(len(nums)):\n",
        "                if nums[x] + nums[y] == target and x!=y:\n",
        "                    return [x,y]\n",
        "\n"
      ],
      "metadata": {
        "id": "ZODJgk7_Hbum"
      },
      "execution_count": null,
      "outputs": []
    },
    {
      "cell_type": "code",
      "source": [
        "#Part 4. Improved Code:\n",
        "\n",
        "class Solution:\n",
        "    def twoSum(self, nums, target):\n",
        "        for x in range(len(nums)):\n",
        "            for y in range(len(nums)):\n",
        "                if nums[x] + nums[y] == target and x!=y:\n",
        "                    return [x,y]\n",
        "\n",
        "sample1 = [1,22,67,76,6]\n",
        "sample2 = [44,22,56,7,9]\n",
        "sample3 = [9,11,4,20]\n",
        "\n",
        "\n",
        "sol1 = Solution()\n",
        "print(sol1.twoSum(sample1, 7))\n",
        "print(\"\\n\")\n",
        "print(sol1.twoSum(sample2, 16))\n",
        "print(\"\\n\")\n",
        "print(sol1.twoSum(sample3, 20))\n",
        "\n",
        "\n",
        "# Fixes include adding range and len to the for loops as well the list indexing for the if statment.\n",
        "\n",
        "# I also added a catch for if x and y are the same index. So if index 2 is 3 and the target value is 6, it won't output [2,2]\n",
        "\n"
      ],
      "metadata": {
        "colab": {
          "base_uri": "https://localhost:8080/"
        },
        "outputId": "03325ed7-3b94-482e-f4a1-7f46f8f8ea58",
        "id": "CcsS3XUJHbun"
      },
      "execution_count": null,
      "outputs": [
        {
          "output_type": "stream",
          "name": "stdout",
          "text": [
            "[0, 4]\n",
            "\n",
            "\n",
            "[3, 4]\n",
            "\n",
            "\n",
            "[0, 1]\n"
          ]
        }
      ]
    },
    {
      "cell_type": "markdown",
      "source": [
        "Part 5:\n",
        "\n",
        "For contribution, I did everything without the help of AI. I used code from the previous question to help with the reversing and then made everything else by myself."
      ],
      "metadata": {
        "id": "K4ZBC0WcHbun"
      }
    },
    {
      "cell_type": "markdown",
      "source": [
        "# Question 5:"
      ],
      "metadata": {
        "id": "MYkRi7MOTvzH"
      }
    },
    {
      "cell_type": "markdown",
      "source": [
        "Part 1:\n",
        "\n",
        "This question gives one input of a singular string. The output is a boolean value.\n",
        "\n",
        "Anything that is NOT a letter ir number is removed and smushed together, which is then checked to see if it is a palindrome.\n",
        "\n",
        "First, I have to remove anything that is not a letter or a number, then I place it back into a temporary list.\n",
        "\n",
        "After removing anything non number or letter, I compare similar to how I did the previous palindrome question.\n",
        "\n",
        "I then return the result of the check.\n"
      ],
      "metadata": {
        "id": "MM9JC4hATvzI"
      }
    },
    {
      "cell_type": "markdown",
      "source": [
        "Part 2:\n",
        "\n",
        "I learned that you can use isalpha() to check to see if the string has only letters a-z. Later, I also learn that isdigit can be used to check if the string is all digits.\n",
        "\n",
        "```\n",
        "class Solution:\n",
        "    def isPalindrome(self, s: str) -> bool:\n",
        "        # use isalpha() to see if a-z\n",
        "        temp = []\n",
        "        for char in s:\n",
        "            if char.isalpha() == True:\n",
        "                temp.append(char)\n",
        "        \n",
        "        return temp == temp[::-1]\n",
        "\n",
        "\n",
        "\n",
        "```"
      ],
      "metadata": {
        "id": "UrjnszM5TvzI"
      }
    },
    {
      "cell_type": "code",
      "source": [
        "# Part 3\n",
        "# Final Working Solution\n",
        "\n",
        "class Solution:\n",
        "    def isPalindrome(self, s: str) -> bool:\n",
        "        # use isalpha() to see if a-z\n",
        "        temp = []\n",
        "        for char in s:\n",
        "            if char.isalpha():\n",
        "                temp.append(char.lower())\n",
        "            elif char.isdigit():\n",
        "                temp.append(char)\n",
        "        return temp == temp[::-1]\n",
        "\n",
        "\n"
      ],
      "metadata": {
        "id": "T-vmevkLTvzI"
      },
      "execution_count": null,
      "outputs": []
    },
    {
      "cell_type": "code",
      "source": [
        "#Part 4. Improved Code:\n",
        "\n",
        "class Solution:\n",
        "    def isPalindrome(self, s: str) -> bool:\n",
        "        # use isalpha() to see if a-z\n",
        "        temp = []\n",
        "        for char in s:\n",
        "            if char.isalpha():\n",
        "                temp.append(char.lower())\n",
        "            elif char.isdigit():\n",
        "                temp.append(char)\n",
        "        return temp == temp[::-1]\n",
        "\n",
        "sample1 = \"A man, a plan, a canal: Panama\"\n",
        "sample2 = \"race a car\"\n",
        "sample3 = \" \"\n",
        "\n",
        "\n",
        "sol1 = Solution()\n",
        "print(sol1.isPalindrome(sample1))\n",
        "print(\"\\n\")\n",
        "print(sol1.isPalindrome(sample2))\n",
        "print(\"\\n\")\n",
        "print(sol1.isPalindrome(sample3))\n",
        "\n",
        "\n",
        "# I first realized that numbers are included in the tests so I added a str.isdigit check.\n",
        "\n",
        "# I also added a str.lower() to make sure no capitalized letters mess up the palindrome check.\n",
        "\n"
      ],
      "metadata": {
        "colab": {
          "base_uri": "https://localhost:8080/"
        },
        "outputId": "0a44922a-0909-47c4-f920-6c2d8af9c8f1",
        "id": "ROP3wxSGTvzI"
      },
      "execution_count": null,
      "outputs": [
        {
          "output_type": "stream",
          "name": "stdout",
          "text": [
            "True\n",
            "\n",
            "\n",
            "False\n",
            "\n",
            "\n",
            "True\n"
          ]
        }
      ]
    },
    {
      "cell_type": "markdown",
      "source": [
        "Part 5:\n",
        "\n",
        "In this question, I also didn't use AI, mainly searching up w3schools for isdigit and isalpha to get the definition of what they do."
      ],
      "metadata": {
        "id": "d-za-xVbTvzJ"
      }
    }
  ]
}